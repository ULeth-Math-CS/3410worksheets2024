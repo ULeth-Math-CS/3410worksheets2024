{
 "cells": [
  {
   "cell_type": "markdown",
   "id": "d1cfc6f2",
   "metadata": {},
   "source": [
    "$\\newcommand{\\spn}{\\operatorname{span}}\n",
    "      \\newcommand{\\bbm}{\\begin{bmatrix}}\n",
    "      \\newcommand{\\ebm}{\\end{bmatrix}}\n",
    "      \\newcommand{\\R}{\\mathbb{R}}\n",
    "      \\newcommand{\\im}{\\operatorname{im}}\n",
    "      \\newcommand{\\nll}{\\operatorname{null}}\n",
    "      \\newcommand{\\csp}{\\operatorname{col}}\n",
    "      \\newcommand{\\rank}{\\operatorname{rank}}\n",
    "      \\newcommand{\\diag}{\\operatorname{diag}}\n",
    "      \\newcommand{\\tr}{\\operatorname{tr}}\n",
    "      \\newcommand{\\dotp}{\\!\\boldsymbol{\\cdot}\\!}\n",
    "      \\newcommand{\\len}[1]{\\lVert #1\\rVert}\n",
    "      \\newcommand{\\abs}[1]{\\lvert #1\\rvert}\n",
    "      \\newcommand{\\proj}[2]{\\operatorname{proj}_{#1}{#2}}\n",
    "      \\newcommand{\\bz}{\\overline{z}}\n",
    "      \\newcommand{\\zz}{\\mathbf{z}}\n",
    "      \\newcommand{\\uu}{\\mathbf{u}}\n",
    "      \\newcommand{\\vv}{\\mathbf{v}}\n",
    "      \\newcommand{\\ww}{\\mathbf{w}}\n",
    "      \\newcommand{\\xx}{\\mathbf{x}}\n",
    "      \\newcommand{\\yy}{\\mathbf{y}}\n",
    "      \\newcommand{\\zer}{\\mathbf{0}}\n",
    "      \\newcommand{\\vecq}{\\mathbf{q}}\n",
    "      \\newcommand{\\vecp}{\\mathbf{p}}\n",
    "      \\newcommand{\\vece}{\\mathbf{e}}\n",
    "      \\newcommand{\\amp}{&}$"
   ]
  },
  {
   "cell_type": "markdown",
   "id": "2b7e0737",
   "metadata": {},
   "source": [
    "# Worksheet: least squares approximation\n",
    "\n",
    "In many applied scenarios, it is not practical (or even, perhaps, possible)\n",
    "to find an exact solution to a problem.\n",
    "Sometimes we may be working with imperfect data.\n",
    "Other times, we may be dealing with a problem that is **overdetermined**,\n",
    "such as a system of linear equations with more equations than variables.\n",
    "(Quite often, both of these issues may be present.)\n",
    "\n",
    "(The term \"overdetermined\" is common in statistics. In other areas, such as physics, the term \"over-constrained\" is used instead.)\n",
    "\n",
    "An overdetermined system is quite likely to be inconsistent.\n",
    "That is, our problem requires finding a solution to a system $A\\xx=\\mathbf{b}$,\n",
    "where no such solution exists!\n",
    "When no solution is possible, we can ask whether it is instead possible to find a *best approximation*.\n",
    "\n",
    "What would a best approximation look like in this case?\n",
    "Let $U=\\csp(A)$ denote the column space of $A$,\n",
    "which we know is a subspace of $\\R^n$ (assuming $A$ is an $m\\times n$ matrix).\n",
    "The subspace $U$ is precisely the set of all vectors $\\yy$ such that $A\\xx=\\yy$ has a solution.\n",
    "Among these vectors, we would like to find the one that is *closest* to $\\mathbf{b}$,\n",
    "in the sense that $\\len{\\yy-\\mathbf{b}}$ is as small as possible.\n",
    "\n",
    "But we know exactly what this vector $\\yy$ should be:\n",
    "the orthogonal projection of $\\mathbf{b}$ onto $U$.\n",
    "\n",
    "The presentation in this worksheet is based on the one given in the text by Nicholson (see Section 5.6).\n",
    "Further details may be found there, or, for the more statistically inclined,\n",
    "on [Wikipedia](https://en.wikipedia.org/wiki/Least_squares\")."
   ]
  },
  {
   "cell_type": "markdown",
   "id": "2fa71711",
   "metadata": {},
   "source": [
    "Given an inconsistent system $A\\xx = \\mathbf{b}$,\n",
    "we have two problems to solve:\n",
    "1. Find the vector $\\yy = \\proj{U}{\\mathbf{b}}$, where $U=\\csp(A)$\n",
    "2. Find a vector $\\zz$ such that $A\\zz=\\yy$\n",
    "\n",
    "The vector $\\zz$ is then our approximate solution.\n",
    "\n",
    "This can be done directly, of course:\n",
    "\n",
    "1. Find a basis for $U$\n",
    "2. Use the <xref ref=\"thm-gram-schmidt\" text=\"title\"/> to construct an orthogonal basis for $U$\n",
    "3. Use this orthogonal basis to compute $\\yy=\\proj{U}{\\mathbf{b}}$\n",
    "4. Solve the system $A\\zz=\\yy$.\n",
    "\n",
    "But there is another way to proceed: we know that $\\mathbf{b}-\\yy=\\mathbf{b}-A\\zz\\in U^\\bot$,\n",
    "so for any vector $A\\xx\\in U$, $(A\\xx)\\dotp (\\mathbf{b}-A\\zz)=0$. Therefore,\n",
    "$$\n",
    "\\begin{aligned}\n",
    "        (A\\xx)\\dotp (\\mathbf{b}-A\\zz) \\amp =0\\\\\n",
    "        (A\\xx)^T(\\mathbf{b}-A\\zz) \\amp =0\\\\\n",
    "        \\xx^TA^T(\\mathbf{b}-A\\zz) \\amp =0\\\\\n",
    "        \\xx^T(A^T\\mathbf{b}-A^TA\\zz) \\amp =0\n",
    "\\end{aligned}\n",
    "$$\n",
    "for any vector $\\xx\\in\\R^n$.\n",
    "\n",
    "Therefore, $A^T\\mathbf{b}-A^TA\\zz=0$, or\n",
    "$$\n",
    "A^TA\\zz = A^T\\mathbf{b}.\n",
    "$$\n",
    "Solving this system, called the **normal equations** for $\\zz$,\n",
    "will yield our approximate solution."
   ]
  },
  {
   "cell_type": "markdown",
   "id": "874c81c5",
   "metadata": {},
   "source": [
    "To begin, let's compare the two methods discussed above for finding an approximate solution.\n",
    "Consider the system of equations $A\\xx=\\mathbf{b}$, where\n",
    "$$\n",
    "A = \\bbm 3\\amp -1 \\amp 0\\amp 5\\\\\n",
    "        -2\\amp 7\\amp -3\\amp 0\\\\\n",
    "        4\\amp -1\\amp 2\\amp 3\\\\\n",
    "        0\\amp 3\\amp 9\\amp -1\\\\\n",
    "        7\\amp -2\\amp 4\\amp -5\\\\\n",
    "        1\\amp 0\\amp 3\\amp -8\\ebm \\text{ and } \\mathbf{b} = \\bbm 4\\\\0\\\\1\\\\2\\\\-5\\\\-1\\ebm.\n",
    "$$\n",
    "\n",
    "## 1.\n",
    "\n",
    "Confirm that the system has no solution."
   ]
  },
  {
   "cell_type": "code",
   "execution_count": null,
   "id": "aba2907f",
   "metadata": {},
   "outputs": [],
   "source": [
    "from sympy import Matrix,init_printing\n",
    "init_printing()"
   ]
  },
  {
   "cell_type": "markdown",
   "id": "063eacdd",
   "metadata": {},
   "source": [
    "**Double-click to edit** this cell, and explain your results for this problem."
   ]
  },
  {
   "cell_type": "markdown",
   "id": "c8253e9d",
   "metadata": {},
   "source": [
    "## 2.\n",
    "Find an orthogonal basis for the column space of $A$."
   ]
  },
  {
   "cell_type": "code",
   "execution_count": null,
   "id": "c55550ad",
   "metadata": {},
   "outputs": [],
   "source": [
    "from sympy import GramSchmidt"
   ]
  },
  {
   "cell_type": "markdown",
   "id": "a6b46b73",
   "metadata": {},
   "source": [
    "## 3.\n",
    "Compute the projection $\\yy$ of $\\mathbf{b}$ onto the column space of $A$."
   ]
  },
  {
   "cell_type": "code",
   "execution_count": null,
   "id": "6fe72607",
   "metadata": {},
   "outputs": [],
   "source": []
  },
  {
   "cell_type": "markdown",
   "id": "30c765bd",
   "metadata": {},
   "source": [
    "## 4.\n",
    "Solve the system $A\\zz=\\yy$ for $\\zz$."
   ]
  },
  {
   "cell_type": "code",
   "execution_count": null,
   "id": "52d0a45a",
   "metadata": {},
   "outputs": [],
   "source": []
  },
  {
   "cell_type": "markdown",
   "id": "db7b4d32",
   "metadata": {},
   "source": [
    "## 5.\n",
    "Solve the normal equations for $\\zz$."
   ]
  },
  {
   "cell_type": "code",
   "execution_count": null,
   "id": "6d70c5f8",
   "metadata": {},
   "outputs": [],
   "source": []
  },
  {
   "cell_type": "markdown",
   "id": "d2ff0c2e",
   "metadata": {},
   "source": [
    "Next, we want to consider a problem found in many introductory science labs:\n",
    "finding a line of *best fit*. The situation is as follows:\n",
    "in some experiment, data points $(x_1,y_1), (x_2,y_2),\\ldots, (x_n,y_n)$\n",
    "have been found.\n",
    "We would like to find a function $y=f(x)=ax+b$ such that for each $i=1,2,\\ldots, n$,\n",
    "the value of $f(x_i)$ is as close as possible to $y_i$.\n",
    "\n",
    "Note that we have only two parameters available to tune: $a$ and $b$.\n",
    "We assume that some reasoning or experimental evidence has led us to conclude that a linear fit is reasonable.\n",
    "The challenge here is to make precise what we mean by \"as close as possible\".\n",
    "We have $n$ differences (sometimes called **residuals**) $r_i=y_i-f(x_i)$\n",
    "that we want to make small, by adjusting $a$ and $b$.\n",
    "But making one of the $r_i$ smaller might make another one larger!\n",
    "\n",
    "A measure of the overall error in the fit of the line is given by the sum of squares\n",
    "$$\n",
    "  S = r_1^2+r_2^2+\\cdots + r_n^2,\n",
    "$$\n",
    "and this is the quantity that we want to minimize. (Hence the name, \"least squares\".)\n",
    "\n",
    "Let $\\vv=\\bbm a\\\\b\\ebm$, and note that $f(x)=a+bx = \\bbm 1\\amp x\\ebm\\vv$.\n",
    "Set $\\yy = \\bbm y_1\\\\y_2\\\\\\vdots\\\\y_n\\ebm$ and $\\mathbf{r}=\\bbm r_1\\\\r_2\\\\\\vdots\\\\r_n\\ebm$.\n",
    "Then\n",
    "$$\n",
    "\\mathbf{r}=\\yy - A\\vv,\n",
    "$$\n",
    "where $A = \\bbm 1\\amp x_1\\\\1\\amp x_2\\\\\\vdots \\amp \\vdots \\\\1\\amp x_n\\ebm$.\n",
    "(Note that we are using $\\yy$ to denote a different sort of vector than in problems 3 and 4.)\n",
    "\n",
    "We can safely assume that an exact solution $A\\vv=\\yy$ is impossible,\n",
    "so we search for an approximate one, with $\\mathbf{r}$ as small as possible.\n",
    "(Note that the magnitude of $\\mathbf{r}$ satisfies $\\len{\\mathbf{r}}^2=S$.)\n",
    "But a solution $\\zz$ that makes $\\yy-A\\zz$\n",
    "as small as possible is exactly the sort of approximate solution that we just learned to calculate!\n",
    "Solving the normal equations for $\\zz=\\bbm a\\\\b\\ebm$, we find that\n",
    "$$\n",
    "\\zz = (A^TA)^{-1}(A^T\\yy).\n",
    "$$"
   ]
  },
  {
   "cell_type": "markdown",
   "id": "bf2993bc",
   "metadata": {},
   "source": [
    "## 6.\n",
    "Find the equation of the best fit line for the following set of data points:\n",
    "$$\n",
    "(1,2.03), (2, 2.37), (3, 2.91), (4, 3.58), (5, 4.11), (6, 4.55), (7, 4.93), (8, 5.44), (9, 6.18).\n",
    "$$"
   ]
  },
  {
   "cell_type": "code",
   "execution_count": null,
   "id": "d48a81b4",
   "metadata": {},
   "outputs": [],
   "source": []
  },
  {
   "cell_type": "markdown",
   "id": "2f34bb6b",
   "metadata": {},
   "source": [
    "**Double-click to edit** this cell and explain your results for this problem."
   ]
  },
  {
   "cell_type": "markdown",
   "id": "9c92a661",
   "metadata": {},
   "source": [
    "## 7.\n",
    "Suppose we were instead trying to find the best *quadratic* fit for a dataset.\n",
    "What would our parameters be? What would the matrix $A$ look like?\n",
    "Illustrate with an example of your own."
   ]
  },
  {
   "cell_type": "code",
   "execution_count": null,
   "id": "eb5bee73",
   "metadata": {},
   "outputs": [],
   "source": []
  }
 ],
 "metadata": {
  "kernelspec": {
   "display_name": "Python 3 (ipykernel)",
   "language": "python",
   "name": "python3"
  },
  "language_info": {
   "codemirror_mode": {
    "name": "ipython",
    "version": 3
   },
   "file_extension": ".py",
   "mimetype": "text/x-python",
   "name": "python",
   "nbconvert_exporter": "python",
   "pygments_lexer": "ipython3",
   "version": "3.11.6"
  }
 },
 "nbformat": 4,
 "nbformat_minor": 5
}
