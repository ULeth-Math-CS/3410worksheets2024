{
 "cells": [
  {
   "cell_type": "markdown",
   "metadata": {},
   "source": [
    "# Generalized Eigenvectors\n",
    "\n",
    "Let $V$ be a finite-dimensional vector space, and let $T:V\\to V$ be a linear operator. Assume that $T$ has all real eigenvalues (alternatively, assume we're working over the complex numbers). Let $A$ be the matrix of $T$ with respect to some standard basis $B_0$ of $V$.\n",
    "\n",
    "Our goal will be to replace the basis $B_0$ with a basis $B$ such that the matrix of $T$ with respect to $B$ is as simple as possible. (Where we agree that the \"simplest\" possible matrix would be diagonal.)\n",
    "\n",
    "Recall the following results that we've observed so far. \n",
    "\n",
    "- The characteristic polynomial $c_T(x)$ of $T$ does not depend on the choice of basis.\n",
    "- The eigenvalues of $T$ are the roots of this polynomial.\n",
    "- The eigenspaces $E_\\lambda(T)$ are $T$-invariant subspaces of $V$.\n",
    "- The matrix $A$ can be diagonalized if and only if there is a basis of $V$ consisting of eigenvectors of $T$.\n",
    "- Suppose\n",
    "$$c_T(x) = (x-\\lambda_1)^{m_1}(x-\\lambda_2)^{m_2}\\cdots (x-\\lambda_k)^{m_k}.$$\n",
    "Then $A$ can be diagonalized if and only if $\\dim E_{\\lambda_i}(T) = m_i$ for each $i=1,\\ldots, k$."
   ]
  },
  {
   "cell_type": "markdown",
   "metadata": {
    "hidden": false
   },
   "source": [
    "In the case where $A$ can be diagonalized, we have the direct sum decomposition\n",
    "$$V = E_{\\lambda_1}(T)\\oplus E_{\\lambda_2}(T) \\oplus \\cdots \\oplus E_{\\lambda_k}(T).$$\n",
    "\n",
    "**The question is**: what do we do if there aren't enough eigenvectors to form a basis of $V$? When that happens, the direct sum of all the eigenspaces will not give us all of $V$.\n",
    "\n",
    "The idea: replace $E_{\\lambda_j}(T)$ with a **generalized eigenspace** $G_{\\lambda_j}(T)$ whose dimension is $m_i$.\n",
    "\n",
    "Our candidate: instead of $E_{\\lambda}(T) = \\ker(T-\\lambda I)$, we use $G_\\lambda(T) = \\ker((T-\\lambda I)^m)$, where $m$ is the multiplicity of $\\lambda$."
   ]
  },
  {
   "cell_type": "markdown",
   "metadata": {
    "hidden": false
   },
   "source": [
    "## Problem 1\n",
    "\n",
    "Recall that in class we proved that $\\ker(T)$ and $\\operatorname{im}(T)$ are $T$-invariant subspaces. Let $p(x)$ be any polynomial, and prove that $\\ker (p(T))$ and $\\operatorname{im}(p(T))$ are also $T$-invariant.\n",
    "\n",
    "Hint: first show that $p(T)T=Tp(T)$ for any polynomial $T$."
   ]
  },
  {
   "cell_type": "markdown",
   "metadata": {
    "hidden": false
   },
   "source": [
    "Applying the result of Problem 1 to the polynomial $p(x) = (x-\\lambda)^m$ shows that $G_\\lambda(T)$ is $T$-invariant. It is possible to show that $\\dim G_\\lambda(T)=m$ but I won't ask you to do that. (A proof is in Nicholson if you really want to see it.)\n",
    "\n",
    "Instead, we will try to understand what's going on by exploring an example.\n"
   ]
  },
  {
   "cell_type": "markdown",
   "metadata": {
    "hidden": false
   },
   "source": [
    "## Problem 2\n",
    "\n",
    "Consider the following matrix."
   ]
  },
  {
   "cell_type": "code",
   "execution_count": 11,
   "metadata": {
    "hidden": false
   },
   "outputs": [
    {
     "data": {
      "image/png": "[encoded data removed]",
      "text/latex": [
       "$\\displaystyle \\left[\\begin{matrix}2 & 0 & 0 & 1 & 0\\\\-1 & 0 & 1 & 2 & 3\\\\0 & 1 & 2 & 0 & -1\\\\-2 & -3 & 2 & 5 & 3\\\\0 & -1 & 0 & 1 & 4\\end{matrix}\\right]$"
      ],
      "text/plain": [
       "⎡2   0   0  1  0 ⎤\n",
       "⎢                ⎥\n",
       "⎢-1  0   1  2  3 ⎥\n",
       "⎢                ⎥\n",
       "⎢0   1   2  0  -1⎥\n",
       "⎢                ⎥\n",
       "⎢-2  -3  2  5  3 ⎥\n",
       "⎢                ⎥\n",
       "⎣0   -1  0  1  4 ⎦"
      ]
     },
     "execution_count": 11,
     "metadata": {},
     "output_type": "execute_result"
    }
   ],
   "source": [
    "from sympy import *\n",
    "init_printing()\n",
    "A=Matrix([[2,0,0,1,0],[-1,0,1,2,3],[0,1,2,0,-1],[-2,-3,2,5,3],[0,-1,0,1,4]])\n",
    "A"
   ]
  },
  {
   "cell_type": "markdown",
   "metadata": {
    "hidden": false
   },
   "source": [
    "(a) find (and factor) the characteristic polynomial of $A$. For the commands you might need, [refer to the textbook](https://opentext.uleth.ca/Math3410/sec-sympy.html#p-1000)"
   ]
  },
  {
   "cell_type": "code",
   "execution_count": null,
   "metadata": {
    "hidden": false
   },
   "outputs": [],
   "source": []
  },
  {
   "cell_type": "markdown",
   "metadata": {
    "hidden": false
   },
   "source": [
    "(b) find the eigenvectors. What are the dimensions of the eigenspaces? Based on this observation, can $A$ be diagonalized?"
   ]
  },
  {
   "cell_type": "code",
   "execution_count": null,
   "metadata": {
    "hidden": false
   },
   "outputs": [],
   "source": []
  },
  {
   "cell_type": "markdown",
   "metadata": {
    "hidden": false
   },
   "source": [
    "(You may comment on the eigenspaces by editing this cell. Double-click to edit.)"
   ]
  },
  {
   "cell_type": "markdown",
   "metadata": {
    "hidden": false
   },
   "source": [
    "## Problem 3\n",
    "\n",
    "Prove that for any $n\\times n$ matrix $A$, we have:\n",
    "\n",
    "$$\\{0\\}\\subseteq \\operatorname{null}(A)\\subseteq \\operatorname{null}(A^2) \\subseteq \\cdots \\subseteq \\operatorname{null}(A^n)$$"
   ]
  },
  {
   "cell_type": "markdown",
   "metadata": {
    "hidden": false
   },
   "source": [
    "It turns out that at some point, the null spaces stabilize. If $\\operatorname{null}(A^k)=\\operatorname{null}A^{k+1}$ for some $k$, then $\\operatorname{null}(A^k)=\\operatorname{null}(A^{k+l})$ for all $l\\geq 0$."
   ]
  },
  {
   "cell_type": "markdown",
   "metadata": {
    "hidden": false
   },
   "source": [
    "## Problem 4\n",
    "\n",
    "For each eigenvalue found in Problem 2, compute the nullspace of $A-\\lambda I$, $(A-\\lambda I)^2$, $(A-\\lambda I)^3$, etc. until you find two consecutive nullspaces that are the same.\n",
    "\n",
    "By Problem 3, any vector in $\\operatorname{null}(A-\\lambda I)^m$ will also be a vector in $\\operatorname{null}(A-\\lambda I)^{m+1}$. In particular, at each step, we can find a basis for $\\operatorname{null}(A-\\lambda I)^m$ that includes the basis for $\\operatorname{null}(A-\\lambda I)^{m-1}$.\n",
    "\n",
    "For each eigenvalue found in Problem 2, determine such a basis for the corresponding generalized eigenspace. You will want to list your vectors so that the vectors from the basis of the nullspace for $A-\\lambda I$ come first, then the vectors for the basis of the nullspace for $(A-\\lambda I)^2$, and so on."
   ]
  },
  {
   "cell_type": "code",
   "execution_count": null,
   "metadata": {
    "hidden": false
   },
   "outputs": [],
   "source": []
  },
  {
   "cell_type": "markdown",
   "metadata": {
    "hidden": false
   },
   "source": [
    "## Problem 5\n",
    "\n",
    "Finally, let's see how all of this works. Let $P$ be the matrix whose columns consist of the vectors found in Problem 4. What do you get when you compute the matrix $P^{-1}AP$?"
   ]
  },
  {
   "cell_type": "code",
   "execution_count": null,
   "metadata": {
    "hidden": false
   },
   "outputs": [],
   "source": []
  }
 ],
 "metadata": {
  "kernelspec": {
   "display_name": "Python 3",
   "language": "python",
   "name": "python3"
  },
  "language_info": {
   "codemirror_mode": {
    "name": "ipython",
    "version": 3
   },
   "file_extension": ".py",
   "mimetype": "text/x-python",
   "name": "python",
   "nbconvert_exporter": "python",
   "pygments_lexer": "ipython3",
   "version": "3.7.6"
  }
 },
 "nbformat": 4,
 "nbformat_minor": 4
}
