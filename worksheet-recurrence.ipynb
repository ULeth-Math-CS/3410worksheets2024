{
 "cells": [
  {
   "cell_type": "code",
   "execution_count": null,
   "metadata": {},
   "outputs": [],
   "source": [
    "%%html\n",
    "<link href=\"https://pretextbook.org/beta/mathbook-content.css\" rel=\"stylesheet\" type=\"text/css\" />\n",
    "<link href=\"https://aimath.org/mathbook/mathbook-add-on.css\" rel=\"stylesheet\" type=\"text/css\" />\n",
    "<link href=\"https://fonts.googleapis.com/css?family=Open+Sans:400,400italic,600,600italic\" rel=\"stylesheet\" type=\"text/css\" />\n",
    "<link href=\"https://fonts.googleapis.com/css?family=Inconsolata:400,700&subset=latin,latin-ext\" rel=\"stylesheet\" type=\"text/css\" /><!-- Hide this cell. -->\n",
    "<script>\n",
    "var cell = $(\".container .cell\").eq(0), ia = cell.find(\".input_area\")\n",
    "if (cell.find(\".toggle-button\").length == 0) {\n",
    "ia.after(\n",
    "    $('<button class=\"toggle-button\">Toggle hidden code</button>').click(\n",
    "        function (){ ia.toggle() }\n",
    "        )\n",
    "    )\n",
    "ia.hide()\n",
    "}\n",
    "</script>\n"
   ]
  },
  {
   "cell_type": "markdown",
   "metadata": {},
   "source": [
    "**Important:** to view this notebook properly you will need to execute the cell above, which assumes you have an Internet connection.  It should already be selected, or place your cursor anywhere above to select.  Then press the \"Run\" button in the menu bar above (the right-pointing arrowhead), or press Shift-Enter on your keyboard."
   ]
  },
  {
   "cell_type": "markdown",
   "metadata": {},
   "source": [
    "$\\newcommand{\\spn}{\\operatorname{span}}\n",
    "\\newcommand{\\bbm}{\\begin{bmatrix}}\n",
    "\\newcommand{\\ebm}{\\end{bmatrix}}\n",
    "\\newcommand{\\R}{\\mathbb{R}}\n",
    "\\renewcommand{\\C}{\\mathbb{C}}\n",
    "\\newcommand{\\im}{\\operatorname{im}}\n",
    "\\newcommand{\\nll}{\\operatorname{null}}\n",
    "\\newcommand{\\csp}{\\operatorname{col}}\n",
    "\\newcommand{\\rank}{\\operatorname{rank}}\n",
    "\\newcommand{\\diag}{\\operatorname{diag}}\n",
    "\\newcommand{\\tr}{\\operatorname{tr}}\n",
    "\\newcommand{\\dotp}{\\!\\boldsymbol{\\cdot}\\!}\n",
    "\\newcommand{\\len}[1]{\\lVert #1\\rVert}\n",
    "\\newcommand{\\abs}[1]{\\lvert #1\\rvert}\n",
    "\\newcommand{\\proj}[2]{\\operatorname{proj}_{#1}{#2}}\n",
    "\\newcommand{\\bz}{\\overline{z}}\n",
    "\\newcommand{\\zz}{\\mathbf{z}}\n",
    "\\newcommand{\\uu}{\\mathbf{u}}\n",
    "\\newcommand{\\vv}{\\mathbf{v}}\n",
    "\\newcommand{\\ww}{\\mathbf{w}}\n",
    "\\newcommand{\\xx}{\\mathbf{x}}\n",
    "\\newcommand{\\yy}{\\mathbf{y}}\n",
    "\\newcommand{\\zer}{\\mathbf{0}}\n",
    "\\newcommand{\\vecq}{\\mathbf{q}}\n",
    "\\newcommand{\\vecp}{\\mathbf{p}}\n",
    "\\newcommand{\\vece}{\\mathbf{e}}\n",
    "\\newcommand{\\basis}[2]{\\{\\mathbf{#1}_1,\\mathbf{#1}_2,\\ldots,\\mathbf{#1}_{#2}\\}}\n",
    "\\newcommand{\\gt}{>}\n",
    "\\newcommand{\\amp}{&}\n",
    "$"
   ]
  },
  {
   "cell_type": "markdown",
   "metadata": {},
   "source": [
    "<div class=\"mathbook-content\"><h6 class=\"heading hide-type\"><span xmlns:svg=\"http://www.w3.org/2000/svg\" class=\"type\">Worksheet</span> <span class=\"codenumber\">2.5</span> <span class=\"title\">Worksheet: linear recurrences</span></h6></div>"
   ]
  },
  {
   "cell_type": "markdown",
   "metadata": {},
   "source": [
    "<div class=\"mathbook-content\"><div class=\"introduction\" id=\"introduction-6\"><p id=\"p-373\">For this worksheet, the reader is directed to Section 7.5 of <em xmlns:svg=\"http://www.w3.org/2000/svg\" class=\"emphasis\">Linear Algebra with Applications</em>, by Keith Nicholson. You will probably want to read this section before proceeding.</p><p id=\"p-374\">A <em class=\"emphasis\">linear recurrence</em> of length $k$ is a sequence $[x_n)$ that is recursively defined, with successive terms in the sequence defined in terms of the previous $k$ terms, via a linear recursion formula of the form</p><div class=\"displaymath\">\n",
    "\\begin{equation*}\n",
    "x_{n+k} = a_0x_k + a_1x_{k+1}+\\cdots + a_{k-1}x_{n+k-1}\\text{.}\n",
    "\\end{equation*}\n",
    "</div><p class=\"continuation\">(Here we assume $a_0\\neq 0$ to have the appropriate length.) The most famous example of a linear recurrence is, of course, the Fibonacci sequence, which is defined by $x_0=1, x_1=1\\text{,}$ and $x_{n+2}=x_n+x_{n+1}$ for all $n\\geq 0\\text{.}$</p><p id=\"p-375\">As demonstrated in the Nicholson's book, the set of all sequences satisfying a linear recursion of length $k$ form a subspace $V$ of the vector space $\\mathbb{R}^\\infty$ of all real-valued sequences. Since each sequence is determined by the $k$ initial conditions $x_0, x_1, \\ldots, x_{k-1}\\text{,}$ we see that $V$ is isomorphic to $\\mathbb{R}^k\\text{.}$</p><p id=\"p-376\">The goal of this worksheeet is to understand how to obtain <em class=\"emphasis\">closed form</em> expressions for a recursively defined sequence using linear algebra. That is, rather than having to generate terms of the sequence one-by-one using the recursion formula, we want a function of $n$ that will produce each term $x_n$ in the sequence.</p><p id=\"p-377\">Since we know the dimension of the space $V$ of solutions, it suffices to understand two things:</p><ul class=\"disc\"><li id=\"li-80\"><p id=\"p-378\">How to produce a basis for $V\\text{.}$</p></li><li id=\"li-81\"><p id=\"p-379\">How to write a given solution in terms of that basis.</p></li></ul><p id=\"p-380\">The key observation is that for each recursion relation, there is an associated polynomial. For the recursion</p><div class=\"displaymath\">\n",
    "\\begin{equation*}\n",
    "x_{n+k} = a_0x_n + a_1x_{n+1}+\\cdots + a_{k-1}x_{n+k-1}\\text{,}\n",
    "\\end{equation*}\n",
    "</div><p class=\"continuation\">the associated polynomial is</p><div class=\"displaymath\">\n",
    "\\begin{equation*}\n",
    "p(x) = x^k - a_{k-1}x^{k-1}-\\cdots -a_1x-a_0\\text{.}\n",
    "\\end{equation*}\n",
    "</div><p id=\"p-381\">The main result is Theorem 7.5.4 in Nicholson. If we can factor $p(x)$ completely over the reals as</p><div class=\"displaymath\">\n",
    "\\begin{equation*}\n",
    "p(x) = (x-\\lambda_1)^{m_1}(x-\\lambda_2)^{m_2}\\cdots (x-\\lambda_p)^{m_p}\\text{,}\n",
    "\\end{equation*}\n",
    "</div><p class=\"continuation\">then a basis for the space of solutions is given by</p><div class=\"displaymath\">\n",
    "\\begin{align*}\n",
    "\\left[\\lambda_1^n\\right), \\amp \\left[n\\lambda_1^n\\right),\\ldots, \\left[n^{m_1-1}\\lambda_1^n\\right)\\\\\n",
    "\\left[\\lambda_2^n\\right), \\amp \\left[n\\lambda_2^n\\right),\\ldots, \\left[n^{m_2-1}\\lambda_2^n\\right)\\\\\n",
    "\\amp \\vdots \\\\\n",
    "\\left[\\lambda_p^n\\right), \\amp \\left[n\\lambda_p^n\\right),\\ldots, \\left[n^{m_p-1}\\lambda_p^n\\right)\\text{.}\n",
    "\\end{align*}\n",
    "</div><p id=\"p-382\">Once we have a basis, we can apply the given coefficients to determine how to write a particular sequence as a linear combination of the basis vectors.</p></div></div>"
   ]
  },
  {
   "cell_type": "markdown",
   "metadata": {},
   "source": [
    "<div class=\"mathbook-content\"><article class=\"exercise exercise-like\" id=\"exercise-37\"><h6 xmlns:svg=\"http://www.w3.org/2000/svg\" class=\"heading\"><span class=\"codenumber\">1<span class=\"period\">.</span></span></h6><p id=\"p-383\">Find a basis for the space $V$ of sequences $[x_n)$ satisfying the recurrence</p><div class=\"displaymath\">\n",
    "\\begin{equation*}\n",
    "x_{n+3}=-2x_n+x_{n+1}+2x_{n+2}\\text{.}\n",
    "\\end{equation*}\n",
    "</div><p id=\"p-384\">Then find a formula for the sequence satisfying the initial conditions $x_0=1, x_1=2, x_2=1\\text{.}$</p><div class=\"workspace\" data-space=\"3in\" /></article></div>"
   ]
  },
  {
   "cell_type": "markdown",
   "metadata": {},
   "source": [
    "<div class=\"mathbook-content\"><p id=\"p-385\">To solve this problem, you may use Python code, as outlined below. To get started, load the functions you'll need from the SymPy library.</p></div>"
   ]
  },
  {
   "cell_type": "code",
   "execution_count": null,
   "metadata": {},
   "outputs": [],
   "source": [
    "from sympy import symbols,factor,init_printing\n",
    "x = symbols('x')\n",
    "init_printing()"
   ]
  },
  {
   "cell_type": "markdown",
   "metadata": {},
   "source": [
    "<div class=\"mathbook-content\"><p id=\"p-386\">First, determine the associated polynomial for the recurrence.</p></div>"
   ]
  },
  {
   "cell_type": "markdown",
   "metadata": {},
   "source": [
    "<div class=\"mathbook-content\"><p id=\"p-387\">(Input your polynomial in the cell below. To get proper formatting, wrap your math in <code class=\"code-inline tex2jax_ignore\">$</code> delimiters, and can use <code class=\"code-inline tex2jax_ignore\">^</code> to enter exponents.)</p></div>"
   ]
  },
  {
   "cell_type": "code",
   "execution_count": null,
   "metadata": {},
   "outputs": [],
   "source": []
  },
  {
   "cell_type": "markdown",
   "metadata": {},
   "source": [
    "<div class=\"mathbook-content\"><p id=\"p-388\">Next, factor the polynomial. You can do this using the <code class=\"code-inline tex2jax_ignore\">factor()</code> command. In Python, you will need to enter <code class=\"code-inline tex2jax_ignore\">**</code> for the exponents.</p></div>"
   ]
  },
  {
   "cell_type": "code",
   "execution_count": null,
   "metadata": {},
   "outputs": [],
   "source": []
  },
  {
   "cell_type": "markdown",
   "metadata": {},
   "source": [
    "<div class=\"mathbook-content\"><p id=\"p-389\">In the cell below, list the roots of the polynomial, and the resulting basis $B$ for the space $V$ of solutions. Recall that if $\\lambda$ is a root of the polynomial, then $[\\lambda^n)$ will be a basis vector for the vector space $V$ of solutions. You may wish to confirm that each of your basis sequences indeed satisfies our recursion.</p></div>"
   ]
  },
  {
   "cell_type": "code",
   "execution_count": null,
   "metadata": {},
   "outputs": [],
   "source": []
  },
  {
   "cell_type": "markdown",
   "metadata": {},
   "source": [
    "<div class=\"mathbook-content\"><p id=\"p-390\">Next, let $s=[x_n)$ be the recursion that satisfies the given initial conditions. We want to write $[x_n)$ in terms of the basis we just found. Recall, from Nicholson, that since our basis has three elements, there is an isomorphism $T:\\R^3\\to V\\text{,}$ where $T(a,b,c)$ is equal to the sequence $[x_n)$ in $V$ that satisfies the initial conditions $x_0=a, x_1=b, x_2=c\\text{.}$ Thus, our desired sequence is given by $s=T(1,2,1)\\text{.}$</p></div>"
   ]
  },
  {
   "cell_type": "markdown",
   "metadata": {},
   "source": [
    "<div class=\"mathbook-content\"><p id=\"p-391\">Let $\\vv_1, \\vv_2, \\vv_3\\in\\R^3$ be the vectors such that $B=\\{T(\\vv_1), T(\\vv_2), T(\\vv_3)\\}\\text{.}$ (That is, write out the first three terms in each sequence in your basis to get three vectors.) We then need to find scalars $c_1,c_2,c_3$ such that</p><div xmlns:svg=\"http://www.w3.org/2000/svg\" class=\"displaymath\">\n",
    "\\begin{equation*}\n",
    "c_1\\vv_1+c_2\\vv_2+c_3\\vv_3=(1,2,1)\\text{.}\n",
    "\\end{equation*}\n",
    "</div><p class=\"continuation\">We will then have</p><div class=\"displaymath\">\n",
    "\\begin{align*}\n",
    "s \\amp = T(1,2,1)\\\\\n",
    "\\amp = c_1T(\\vv_1)+c_2T(\\vv_2)+c_3T(\\vv_3)\\text{,}\n",
    "\\end{align*}\n",
    "</div><p class=\"continuation\">and we recall that the sequences $T(\\vv_i)$ are the sequences in our basis $B\\text{.}$</p></div>"
   ]
  },
  {
   "cell_type": "markdown",
   "metadata": {},
   "source": [
    "<div class=\"mathbook-content\"><p id=\"p-392\">Set up this system, and then use the computer to solve. Let <code class=\"code-inline tex2jax_ignore\">A</code> be the coefficient matrix for the system, which you will need to input into the cell below, and let <code class=\"code-inline tex2jax_ignore\">B</code> be the column vector containing the initial conditions.</p></div>"
   ]
  },
  {
   "cell_type": "code",
   "execution_count": null,
   "metadata": {},
   "outputs": [],
   "source": [
    "from sympy import Matrix\n",
    "A = Matrix()\n",
    "B = Matrix([1,2,1])\n",
    "X = A**(-1)*B\n",
    "X"
   ]
  },
  {
   "cell_type": "markdown",
   "metadata": {},
   "source": [
    "<div class=\"mathbook-content\"><p id=\"p-393\">Using the solution above, state the answer to this exercise.</p></div>"
   ]
  },
  {
   "cell_type": "code",
   "execution_count": null,
   "metadata": {},
   "outputs": [],
   "source": []
  },
  {
   "cell_type": "markdown",
   "metadata": {},
   "source": [
    "<div class=\"mathbook-content\"><p id=\"p-394\">Now, we leave you with a few more exercises. Recall that if the associated polynomial for your recursion has a repeated root $(x-\\lambda)^k\\text{,}$ then your basis will include the sequences $[\\lambda^n), [n\\lambda^n), \\ldots, [n^{k-1}\\lambda^n)\\text{.}$</p></div>"
   ]
  },
  {
   "cell_type": "markdown",
   "metadata": {},
   "source": [
    "<div class=\"mathbook-content\"><article class=\"exercise exercise-like\" id=\"exercise-38\"><h6 xmlns:svg=\"http://www.w3.org/2000/svg\" class=\"heading\"><span class=\"codenumber\">2<span class=\"period\">.</span></span></h6><p id=\"p-395\">Find a basis for the space $V$ of sequences $[x_n)$ satisfying the recurrence</p><div class=\"displaymath\">\n",
    "\\begin{equation*}\n",
    "x_{n+3} = -4x_n+3x_{n+2}\\text{.}\n",
    "\\end{equation*}\n",
    "</div><p class=\"continuation\">Then find a formula for the sequence satisfying the initial conditions $x_0=1, x_1=-1, x_2=1\\text{.}$</p><div class=\"workspace\" data-space=\"2in\" /></article></div>"
   ]
  },
  {
   "cell_type": "code",
   "execution_count": null,
   "metadata": {},
   "outputs": [],
   "source": []
  },
  {
   "cell_type": "markdown",
   "metadata": {},
   "source": [
    "<div class=\"mathbook-content\"><article class=\"exercise exercise-like\" id=\"exercise-39\"><h6 xmlns:svg=\"http://www.w3.org/2000/svg\" class=\"heading\"><span class=\"codenumber\">3<span class=\"period\">.</span></span></h6><p id=\"p-396\">Find a basis for the space $V$ of sequences $[x_n)$ satisfying the recurrence</p><div class=\"displaymath\">\n",
    "\\begin{equation*}\n",
    "x_{n+3} = 8x_n-12x_{n+1}+6x_{n+2}\\text{.}\n",
    "\\end{equation*}\n",
    "</div><p class=\"continuation\">Then find a formula for the sequence satisfying the initial conditions $x_0=1, x_1=-1, x_2=1\\text{.}$</p><div class=\"workspace\" data-space=\"2.5in\" /></article></div>"
   ]
  },
  {
   "cell_type": "code",
   "execution_count": null,
   "metadata": {},
   "outputs": [],
   "source": []
  },
  {
   "cell_type": "markdown",
   "metadata": {},
   "source": [
    "<div class=\"mathbook-content\"><p id=\"p-397\">Our last exercise is more theoretical, and less computational. Recall that the <em xmlns:svg=\"http://www.w3.org/2000/svg\" class=\"emphasis\">shift operator</em> $S$ on the vector space $\\R^\\infty$ of sequences is the operator that deletes the first entry of a sequence. (So the remaining entries get “shifted” once to the left.)</p></div>"
   ]
  },
  {
   "cell_type": "markdown",
   "metadata": {},
   "source": [
    "<div class=\"mathbook-content\"><article class=\"exercise exercise-like\" id=\"exercise-40\"><h6 xmlns:svg=\"http://www.w3.org/2000/svg\" class=\"heading\"><span class=\"codenumber\">4<span class=\"period\">.</span></span></h6><p id=\"p-398\">Show that the shift operator is onto, but not one-to-one. Then, determine the kernel of the shift operator.</p><div class=\"workspace\" data-space=\"2.5in\" /></article></div>"
   ]
  },
  {
   "cell_type": "code",
   "execution_count": null,
   "metadata": {},
   "outputs": [],
   "source": []
  }
 ],
 "metadata": {
  "kernelspec": {
   "display_name": "Python 3",
   "language": "python",
   "name": "python3"
  },
  "language_info": {
   "codemirror_mode": {
    "name": "ipython",
    "version": 3
   },
   "file_extension": ".py",
   "mimetype": "text/x-python",
   "name": "python",
   "nbconvert_exporter": "python",
   "pygments_lexer": "ipython3",
   "version": "3.9.5"
  },
  "name": "worksheet-recurrence.ipynb"
 },
 "nbformat": 4,
 "nbformat_minor": 1
}
